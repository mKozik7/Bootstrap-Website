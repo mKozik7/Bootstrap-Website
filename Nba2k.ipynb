{
  "nbformat": 4,
  "nbformat_minor": 0,
  "metadata": {
    "colab": {
      "provenance": [],
      "authorship_tag": "ABX9TyMySfF4TSGuuzdMeJzAYs/u",
      "include_colab_link": true
    },
    "kernelspec": {
      "name": "python3",
      "display_name": "Python 3"
    },
    "language_info": {
      "name": "python"
    }
  },
  "cells": [
    {
      "cell_type": "markdown",
      "metadata": {
        "id": "view-in-github",
        "colab_type": "text"
      },
      "source": [
        "<a href=\"https://colab.research.google.com/github/mKozik7/Bootstrap-Website/blob/main/Nba2k.ipynb\" target=\"_parent\"><img src=\"https://colab.research.google.com/assets/colab-badge.svg\" alt=\"Open In Colab\"/></a>"
      ]
    },
    {
      "cell_type": "code",
      "execution_count": 51,
      "metadata": {
        "id": "MnlFzqvlQjUz",
        "colab": {
          "base_uri": "https://localhost:8080/"
        },
        "outputId": "d1dde56a-d230-453f-c137-0133a6738494"
      },
      "outputs": [
        {
          "output_type": "stream",
          "name": "stdout",
          "text": [
            "2022\n"
          ]
        }
      ],
      "source": [
        "import numpy as np\n",
        "import pandas as pd\n",
        "import matplotlib.pyplot as plt\n",
        "import seaborn as sns\n",
        "import random\n",
        "from datetime import datetime\n",
        "currentYear = datetime.now().year\n"
      ]
    },
    {
      "cell_type": "code",
      "source": [
        "df = pd.read_csv('nba2k.csv', index_col = False)\n",
        "print(df[['full_name','salary','rating','position']])"
      ],
      "metadata": {
        "colab": {
          "base_uri": "https://localhost:8080/"
        },
        "id": "aqmANbnVSkow",
        "outputId": "61f0e9bd-5797-459b-a8ed-b808aa710ea5"
      },
      "execution_count": 39,
      "outputs": [
        {
          "output_type": "stream",
          "name": "stdout",
          "text": [
            "                 full_name    salary  rating position\n",
            "0             LeBron James  37436858      97        F\n",
            "1            Kawhi Leonard  32742000      97        F\n",
            "2    Giannis Antetokounmpo  25842697      96      F-G\n",
            "3             Kevin Durant  37199000      96        F\n",
            "4             James Harden  38199000      96        G\n",
            "..                     ...       ...     ...      ...\n",
            "434           Kevin Durant  40918900      95        F\n",
            "435          Anthony Davis  35361360      95      F-C\n",
            "436            Luka Doncic  10174391      94      G-F\n",
            "437         Damian Lillard  39344900      94        G\n",
            "438            Joel Embiid  31579390      91        C\n",
            "\n",
            "[439 rows x 4 columns]\n"
          ]
        }
      ]
    },
    {
      "cell_type": "code",
      "source": [
        "print(df['draft_year'].idxmin())\n",
        "print(df.iloc[203,:])"
      ],
      "metadata": {
        "colab": {
          "base_uri": "https://localhost:8080/"
        },
        "id": "5zrBQogzvuy9",
        "outputId": "f3d34615-44f0-496c-db35-f6aefc045baf"
      },
      "execution_count": 58,
      "outputs": [
        {
          "output_type": "stream",
          "name": "stdout",
          "text": [
            "203\n",
            "full_name                 Pau Gasol\n",
            "rating                           75\n",
            "jersey                           #0\n",
            "team                            NaN\n",
            "position                          C\n",
            "b_day                      07/06/80\n",
            "height                   7-1 / 2.16\n",
            "weight         250 lbs. / 113.4 kg.\n",
            "salary                      5538540\n",
            "country                       Spain\n",
            "draft_year                     2001\n",
            "draft_round                       1\n",
            "draft_peak                        3\n",
            "college                         NaN\n",
            "version                     NBA2k20\n",
            "Name: 203, dtype: object\n"
          ]
        }
      ]
    },
    {
      "cell_type": "code",
      "source": [
        "initial_population = []\n",
        "positions = ['F','F-G','C','G','G-F','C-F','F-C']\n"
      ],
      "metadata": {
        "id": "2cG29gkYS63a"
      },
      "execution_count": 4,
      "outputs": []
    },
    {
      "cell_type": "code",
      "source": [
        "def initial_population(data,n, positions):\n",
        "  init_population = []\n",
        "  for i in range(n):\n",
        "    team = []\n",
        "    for j in positions:\n",
        "      player = data[data['position'] == j].sample(1)\n",
        "      team.append(player.iloc[0].full_name)\n",
        "    init_population.append(team)\n",
        "  return init_population\n",
        "  \n",
        "target_pos = ['F','F-G','C','G','G-F','C-F','F-C']\n",
        "n = 50\n",
        "data = df\n",
        "population = initial_population(data, n, target_pos)"
      ],
      "metadata": {
        "id": "52RIJ-r6bTAB"
      },
      "execution_count": 5,
      "outputs": []
    },
    {
      "cell_type": "code",
      "source": [
        "def crossover(pop1, pop2):\n",
        "    if random.random() < probability_crossover:\n",
        "        pos = random.randint(0,len(pop1))\n",
        "        crossed_pop1 = pop1[:pos] + pop2[pos:]\n",
        "        crossed_pop2 = pop2[:pos] + pop1[pos:]\n",
        "        return [crossed_pop1, crossed_pop2]\n",
        "\n",
        "    else:\n",
        "        return [pop1,pop2]\n",
        "probability_crossover = 0.85\n"
      ],
      "metadata": {
        "id": "Frp7MMCDeMmp"
      },
      "execution_count": 6,
      "outputs": []
    },
    {
      "cell_type": "code",
      "source": [
        "parents = []\n",
        "for i in  range(0, n - 1, 2):\n",
        "  indiv_1= population[i]\n",
        "  indiv_2 = population[i+1]\n",
        "  parents.extend(crossover(indiv_1, indiv_2))\n"
      ],
      "metadata": {
        "id": "12vHuROnj15_"
      },
      "execution_count": 7,
      "outputs": []
    },
    {
      "cell_type": "code",
      "source": [
        "print(population)\n",
        "print(len(population))"
      ],
      "metadata": {
        "colab": {
          "base_uri": "https://localhost:8080/"
        },
        "id": "fci3qtLGd4OU",
        "outputId": "00564d8e-87e4-4c58-8d6d-beee30bfe923"
      },
      "execution_count": 10,
      "outputs": [
        {
          "output_type": "stream",
          "name": "stdout",
          "text": [
            "[['Semi Ojeleye', 'Cedi Osman', 'Ante Zizic', 'Marcus Smart', 'Tyrone Wallace', 'Skal Labissiere', 'Dwight Powell'], ['JaKarr Sampson', 'Mikal Bridges', 'Naz Reid', 'Sterling Brown', 'Matisse Thybulle', 'Mason Plumlee', 'Lauri Markkanen'], ['Cristiano Felicio', 'Mikal Bridges', 'Willie Cauley-Stein', 'Markelle Fultz', 'Zhaire Smith', 'Jakob Poeltl', 'Anthony Davis'], ['Derrick Jones', 'Mario Hezonja', 'Kelly Olynyk', 'Donte DiVincenzo', 'Matisse Thybulle', 'Jakob Poeltl', 'Harry Giles'], ['Jared Dudley', 'Nemanja Bjelica', 'Alex Len', 'Malik Beasley', 'Zhaire Smith', 'Cody Zeller', 'Thomas Bryant'], ['Admiral Schofield', 'Cedi Osman', 'Pau Gasol', 'Damian Lillard', 'Allonzo Trier', 'Willy Hernangomez', 'Thomas Bryant'], ['Julius Randle', 'OG Anunoby', 'Luke Kornet', 'Malcolm Brogdon', 'CJ Miles', 'Jakob Poeltl', 'Lauri Markkanen'], ['Davis Bertans', 'Cedi Osman', 'DeAndre Jordan', 'Goran Dragic', 'Kevin Porter', 'Skal Labissiere', 'Dwight Powell'], ['Georges Niang', 'Mario Hezonja', 'Jarrett Allen', 'Fred VanVleet', 'Courtney Lee', 'Willy Hernangomez', 'Paul Millsap'], ['Bruno Fernando', 'Wilson Chandler', 'Jarrett Allen', 'Talen Horton-Tucker', 'CJ Miles', 'Al Horford', 'Bam Adebayo'], ['Josh Jackson', 'OG Anunoby', 'Ante Zizic', 'Patrick Beverley', 'Zhaire Smith', 'Skal Labissiere', 'Jaxson Hayes'], ['Chandler Hutchison', 'Wilson Chandler', 'Robin Lopez', 'Malik Monk', 'Zhaire Smith', 'Al Horford', 'Karl-Anthony Towns'], ['Grant Williams', 'Justin Jackson', 'DeMarcus Cousins', 'Aaron Holiday', 'Tyrone Wallace', 'Cody Zeller', 'Jordan Bell'], ['Marcus Morris', 'Mikal Bridges', 'Zach Collins', 'Dennis Schroeder', 'Bojan Bogdanovic', 'Al Horford', 'Karl-Anthony Towns'], ['Tony Snell', 'Wilson Chandler', 'Khem Birch', 'Kris Dunn', 'Matisse Thybulle', 'Cody Zeller', 'LaMarcus Aldridge'], ['Ryan Broekhoff', 'Cedi Osman', 'Rudy Gobert', 'Frank Jackson', 'Courtney Lee', 'Jakob Poeltl', 'Ivan Rabb'], ['Draymond Green', 'Mikal Bridges', 'Dewayne Dedmon', 'Grayson Allen', 'Allen Crabbe', 'Jakob Poeltl', 'Anthony Davis'], ['Georges Niang', 'Mikal Bridges', 'Shake Milton', 'Jamal Murray', 'Luka Doncic', 'Mason Plumlee', 'Ivan Rabb'], ['Thaddeus Young', 'OG Anunoby', 'Hassan Whiteside', 'Elie Okobo', 'DeMar DeRozan', 'Skal Labissiere', \"Kyle O'Quinn\"], ['Eric Paschall', 'Mario Hezonja', 'Alex Len', 'Bryn Forbes', 'Kenrich Williams', 'Jakob Poeltl', 'Paul Millsap'], ['Thanasis Antetokounmpo', 'Mikal Bridges', 'Marc Gasol', 'RJ Barrett', 'Garrett Temple', 'Willy Hernangomez', 'Chuma Okeke'], ['Bruno Fernando', 'Gerald Green', 'Bismack Biyombo', 'Bradley Beal', 'Tyrone Wallace', 'Jakob Poeltl', 'Domantas Sabonis'], ['Derrick Favors', 'Kelly Oubre', 'Jarrett Allen', 'Malik Beasley', 'Tyrone Wallace', 'Jakob Poeltl', 'Amile Jefferson'], ['LeBron James', 'Wilson Chandler', 'Gorgui Dieng', 'Derrick White', 'Luka Doncic', 'Al Horford', 'Paul Millsap'], ['Josh Jackson', 'Mario Hezonja', 'Dewayne Dedmon', 'Rajon Rondo', 'Evan Turner', 'Jakob Poeltl', 'Isaiah Hartenstein'], ['Juan Hernangomez', 'OG Anunoby', 'Shake Milton', 'Justin James', 'Kevin Porter', 'Jakob Poeltl', 'Anthony Davis'], ['Kawhi Leonard', 'Nicolas Batum', 'Luke Kornet', 'Jacob Evans', 'Luka Doncic', 'Mason Plumlee', 'Karl-Anthony Towns'], ['Cristiano Felicio', 'Mario Hezonja', 'Hassan Whiteside', 'TJ McConnell', 'Andre Iguodala', 'Jakob Poeltl', 'Tyler Lydon'], ['Semi Ojeleye', 'Cedi Osman', 'Jusuf Nurkic', 'Reggie Jackson', 'Matisse Thybulle', 'Willy Hernangomez', 'Thon Maker'], ['LeBron James', 'Troy Brown', 'Nikola Jokic', 'Landry Shamet', 'Zhaire Smith', 'Willy Hernangomez', 'Miles Plumlee'], ['Justise Winslow', 'OG Anunoby', 'Bismack Biyombo', 'Kyrie Irving', 'Courtney Lee', 'Al Horford', 'Jaren Jackson'], ['Larry Nance Jr', 'Nicolas Batum', 'Rudy Gobert', 'Troy Daniels', 'Garrett Temple', 'Jakob Poeltl', 'Nerlens Noel'], ['Jaylen Brown', 'Cedi Osman', 'Clint Capela', 'Evan Fournier', 'DeMar DeRozan', 'Cody Zeller', 'Amile Jefferson'], [\"Royce O'Neale\", 'Kelly Oubre', 'Joel Embiid', 'Quinn Cook', 'Kenrich Williams', 'Skal Labissiere', 'Chuma Okeke'], ['DeMarre Carroll', 'Justin Jackson', 'Nikola Vucevic', 'Malik Monk', 'Evan Turner', 'Jakob Poeltl', 'Deyonta Davis'], ['Cristiano Felicio', 'Nicolas Batum', 'Nikola Vucevic', 'Terry Rozier', 'Kevin Porter', 'Mason Plumlee', 'Yante Maten'], ['Omari Spellman', 'Troy Brown', 'Aron Baynes', 'Yogi Ferrell', 'Zhaire Smith', 'Willy Hernangomez', 'Mike Muscala'], ['Kostas Antetokounmpo', 'Mario Hezonja', 'Nicolas Claxton', 'Lonzo Ball', 'Zhaire Smith', 'Skal Labissiere', 'Nerlens Noel'], ['Ignas Brazdeikis', 'Giannis Antetokounmpo', 'Goga Bitadze', 'Devonte Graham', 'Dillon Brooks', 'Mason Plumlee', \"Kyle O'Quinn\"], ['Rondae Hollis-Jefferson', 'Nicolas Batum', 'Goga Bitadze', 'Jrue Holiday', 'Luka Doncic', 'Cody Zeller', 'Robert Williams'], ['Grant Williams', 'Gerald Green', 'Joel Embiid', 'Klay Thompson', 'Kevin Porter', 'Willy Hernangomez', 'Anthony Davis'], ['Dorian Finney-Smith', 'Gerald Green', 'Nikola Jokic', 'Terance Mann', 'Dillon Brooks', 'Al Horford', 'Lauri Markkanen'], ['Jarred Vanderbilt', 'Giannis Antetokounmpo', 'Mitchell Robinson', 'CJ McCollum', 'Kenrich Williams', 'Willy Hernangomez', 'Chuma Okeke'], ['Brandon Clarke', 'Kelly Oubre', 'Gorgui Dieng', 'Danny Green', 'Kenrich Williams', 'Al Horford', 'Isaiah Hartenstein'], ['Anthony Tolliver', 'Mario Hezonja', 'Marc Gasol', 'Austin Rivers', 'Courtney Lee', 'Al Horford', 'Chuma Okeke'], ['PJ Tucker', 'Trevor Ariza', 'Dewayne Dedmon', 'Tyus Jones', 'Courtney Lee', 'Willy Hernangomez', 'Amile Jefferson'], ['Solomon Hill', 'Wilson Chandler', 'Andre Drummond', 'Caris LeVert', 'Courtney Lee', 'Jakob Poeltl', 'Amile Jefferson'], ['Ersan Ilyasova', 'Nicolas Batum', 'Jusuf Nurkic', 'Jamal Murray', 'Allen Crabbe', 'Mason Plumlee', 'Cheick Diallo'], ['Darius Bazley', 'Nicolas Batum', 'Joakim Noah', 'Cameron Payne', 'Luka Doncic', 'Jakob Poeltl', 'Nerlens Noel'], ['Kostas Antetokounmpo', 'Gerald Green', 'Jahlil Okafor', 'Bradley Beal', 'Dillon Brooks', 'Jakob Poeltl', 'Jordan Bell']]\n",
            "50\n"
          ]
        }
      ]
    },
    {
      "cell_type": "code",
      "source": [
        "def mutation(pop1,positions):\n",
        "  for i in range(0,len(pop1)):\n",
        "    x = random.randrange(7)\n",
        "    player = data[data['position'] == x].sample(1)\n",
        "    pop1[i][x] = player\n",
        "  return pop1 \n",
        "  \n",
        "    "
      ],
      "metadata": {
        "id": "fNbXR60PbaKy"
      },
      "execution_count": 11,
      "outputs": []
    },
    {
      "cell_type": "code",
      "source": [
        "def evaluate_population(data, population, budget):\n",
        "  alpha = 0.2\n",
        "  beta = 0.2\n",
        "  gamma = 0.6\n",
        "  total_value = []\n",
        "  scores = []\n",
        "  age = []\n",
        "  rating= []\n",
        "  for team in population:\n",
        "    for player in team:\n",
        "      p = data[data[\"full_name\"] == player].iloc[0]\n",
        "      total_value.append(p[\"salary\"])\n",
        "      age.append(p[\"draft_year\"])\n",
        "      rating.append(p[\"rating\"])\n",
        "\n",
        "### evaluate salaries, budget - all salaries\n",
        "### current year - draft_year - shows how many years is someone playing\n",
        "### ratings normalnie \n",
        "\n",
        "evaluate_population(df,population, 10)"
      ],
      "metadata": {
        "id": "RhjPYvRunVrL"
      },
      "execution_count": 60,
      "outputs": []
    }
  ]
}